{
 "cells": [
  {
   "cell_type": "markdown",
   "metadata": {
    "collapsed": true
   },
   "source": [
    "# Workshop – Introduction to Neural Networks using TensorFlow and Keras"
   ]
  },
  {
   "cell_type": "markdown",
   "metadata": {},
   "source": [
    "http://www.mcubed.london/sessions/workshop-introduction-to-neural-networks-using-tensorflow-and-keras/"
   ]
  },
  {
   "cell_type": "markdown",
   "metadata": {},
   "source": [
    "<h1 style=\"color:red\">Executing these notebooks on Azure is fine, however, for improved performance and reliability it is best to run it on a local machine or, ideally, on more powerful GPU hardware</h1>\n",
    "\n",
    "(local) installation goes like this:\n",
    "\n",
    "1. Install Anaconda 3 for Python 3.6: https://www.anaconda.com/download/\n",
    "* Install TensorFlow for Anaconda: https://www.tensorflow.org/install/install_linux#InstallingAnaconda\n",
    "  * e.g. like ```pip install --ignore-installed --upgrade https://storage.googleapis.com/tensorflow/linux/cpu/tensorflow-1.3.0-cp36-cp36m-linux_x86_64.whl```\n",
    "* Install Keras using pip: ```pip install keras --upgrade```     \n",
    "\n",
    "<h2 style=\"color:red\">If all checks below pass and you can download the training material you are good to go, no matter what platform you are on</h2>"
   ]
  },
  {
   "cell_type": "markdown",
   "metadata": {},
   "source": [
    "## Notebook Basics\n",
    "* This is a Jupyter Notebook\n",
    "* You type commands which will be executed on a server (possibly remote)\n",
    "* A notebook saves all output of the commands executed, thus you can view it including results without executing it\n",
    "* Before using a notebook to type or edit commands make sure you execute all code\n",
    "* Do this by selecting *Kernel*, *Restart & Run All* in the menu\n",
    "\n",
    "### Tips\n",
    "* This is your personal notebook, add Python comments or markdown to take notes"
   ]
  },
  {
   "cell_type": "markdown",
   "metadata": {},
   "source": [
    "## Executing Cells\n",
    "* Everthing can be down using the Menu and Toolbar\n",
    "* Using the keyboard you can be faster, click on the Keyboard Symbol in the toolbar to learn about more short cuts\n",
    "* The most important shortcut is Shit+Enter which executes a cell and navigates to the next one"
   ]
  },
  {
   "cell_type": "markdown",
   "metadata": {},
   "source": [
    "## Preparations"
   ]
  },
  {
   "cell_type": "markdown",
   "metadata": {},
   "source": [
    "### Import and check required dependencies\n"
   ]
  },
  {
   "cell_type": "code",
   "execution_count": 2,
   "metadata": {
    "collapsed": true
   },
   "outputs": [],
   "source": [
    "# we need pandas .20\n",
    "# !conda update pandas -y\n",
    "\n",
    "# and keras 2.0.6 \n",
    "# !pip install keras --upgrade"
   ]
  },
  {
   "cell_type": "code",
   "execution_count": 8,
   "metadata": {
    "collapsed": true
   },
   "outputs": [],
   "source": [
    "import warnings\n",
    "warnings.filterwarnings('ignore')"
   ]
  },
  {
   "cell_type": "code",
   "execution_count": 9,
   "metadata": {},
   "outputs": [
    {
     "name": "stdout",
     "output_type": "stream",
     "text": [
      "Populating the interactive namespace from numpy and matplotlib\n"
     ]
    }
   ],
   "source": [
    "%matplotlib inline\n",
    "%pylab inline"
   ]
  },
  {
   "cell_type": "code",
   "execution_count": 10,
   "metadata": {
    "collapsed": true
   },
   "outputs": [],
   "source": [
    "from distutils.version import StrictVersion"
   ]
  },
  {
   "cell_type": "code",
   "execution_count": 11,
   "metadata": {},
   "outputs": [
    {
     "name": "stdout",
     "output_type": "stream",
     "text": [
      "0.18.1\n"
     ]
    }
   ],
   "source": [
    "import sklearn\n",
    "print(sklearn.__version__)\n",
    "\n",
    "assert StrictVersion(sklearn.__version__ ) >= StrictVersion('0.18.1')"
   ]
  },
  {
   "cell_type": "code",
   "execution_count": 12,
   "metadata": {},
   "outputs": [
    {
     "name": "stdout",
     "output_type": "stream",
     "text": [
      "1.3.0\n"
     ]
    }
   ],
   "source": [
    "import tensorflow as tf\n",
    "tf.logging.set_verbosity(tf.logging.ERROR)\n",
    "print(tf.__version__)\n",
    "\n",
    "assert StrictVersion(tf.__version__) >= StrictVersion('1.1.0')"
   ]
  },
  {
   "cell_type": "code",
   "execution_count": 13,
   "metadata": {},
   "outputs": [
    {
     "name": "stderr",
     "output_type": "stream",
     "text": [
      "Using TensorFlow backend.\n"
     ]
    },
    {
     "name": "stdout",
     "output_type": "stream",
     "text": [
      "2.0.5\n"
     ]
    }
   ],
   "source": [
    "import keras\n",
    "print(keras.__version__)\n",
    "\n",
    "assert StrictVersion(keras.__version__) >= StrictVersion('2.0.0')"
   ]
  },
  {
   "cell_type": "code",
   "execution_count": 14,
   "metadata": {},
   "outputs": [
    {
     "name": "stdout",
     "output_type": "stream",
     "text": [
      "0.19.2\n"
     ]
    }
   ],
   "source": [
    "import pandas as pd\n",
    "print(pd.__version__)\n",
    "\n",
    "assert StrictVersion(pd.__version__) >= StrictVersion('0.19.0')"
   ]
  },
  {
   "cell_type": "markdown",
   "metadata": {},
   "source": [
    "### How does Tensorflow Low Level API look like? "
   ]
  },
  {
   "cell_type": "code",
   "execution_count": 15,
   "metadata": {},
   "outputs": [
    {
     "name": "stdout",
     "output_type": "stream",
     "text": [
      "[array([[ 12.]], dtype=float32)]\n"
     ]
    }
   ],
   "source": [
    "# graph definition\n",
    "matrix1 = tf.constant([[3., 3.]])\n",
    "matrix2 = tf.constant([[2.],[2.]])\n",
    "product = tf.matmul(matrix1, matrix2)\n",
    "\n",
    "# launching the graph in a session\n",
    "with tf.Session() as sess:\n",
    "    result = sess.run([product])\n",
    "    print(result)"
   ]
  },
  {
   "cell_type": "markdown",
   "metadata": {},
   "source": [
    "### Interactive usage of Low Level API"
   ]
  },
  {
   "cell_type": "code",
   "execution_count": 10,
   "metadata": {},
   "outputs": [
    {
     "name": "stdout",
     "output_type": "stream",
     "text": [
      "[-2. -1.]\n"
     ]
    }
   ],
   "source": [
    "sess = tf.InteractiveSession()\n",
    "\n",
    "x = tf.Variable([1.0, 2.0])\n",
    "a = tf.constant([3.0, 3.0])\n",
    "\n",
    "# Initialize 'x' using the run() method of its initializer op.\n",
    "x.initializer.run()\n",
    "\n",
    "# Add an op to subtract 'a' from 'x'.  Run it and print the result\n",
    "sub = tf.subtract(x, a)\n",
    "print(sub.eval())\n",
    "# ==> [-2. -1.]\n",
    "\n",
    "# Close the Session when we're done.\n",
    "sess.close()"
   ]
  },
  {
   "cell_type": "markdown",
   "metadata": {},
   "source": [
    "### Calling a TensorFlow Model deployed on Google Cloud ML Service\n",
    "![Google Cloud ML Service](https://github.com/DJCordhose/ai/raw/master/docs/img/applications/google_cloud_ml.png)"
   ]
  },
  {
   "cell_type": "code",
   "execution_count": 11,
   "metadata": {},
   "outputs": [
    {
     "name": "stdout",
     "output_type": "stream",
     "text": [
      "{\"inputs\": [ 5.1,  3.5,  1.4,  0.2]}"
     ]
    }
   ],
   "source": [
    "!cat sample_iris.json\n",
    "# Example for iris, model exported as Tensorflow\n",
    "# gsutil cp -R 1 gs://irisnn\n",
    "# create model and version at https://console.cloud.google.com/mlengine\n",
    "# in a DOS shell on local machine in this folder\n",
    "# gcloud ml-engine predict --model=irisnn --json-instances=./sample_iris.json\n",
    "# SCORES\n",
    "# [0.9954029321670532, 0.004596732556819916, 3.3544753819114703e-07]"
   ]
  },
  {
   "cell_type": "markdown",
   "metadata": {},
   "source": [
    "## What can Keras do for us?\n",
    "* Abstracting from defining operations on tensors\n",
    "* Just define the network architecture and you are done\n",
    "* Keras compile the description of the model down to TensorFlow operations\n",
    "* Many other backends are supported\n",
    "\n",
    "https://github.com/fchollet/keras#getting-started-30-seconds-to-keras"
   ]
  },
  {
   "cell_type": "markdown",
   "metadata": {},
   "source": [
    "# Our task for today\n",
    "\n",
    "Train a system to classify speed limit signs:\n",
    "![Speed Limit Signs](https://raw.githubusercontent.com/DJCordhose/ai/master/docs/img/conv/speed-limit-signs.png)\n",
    "* We have a pretty realistic example\n",
    "  * https://twitter.com/art_sobolev/status/907857395757481985?s=03: *I don't think it's fine to only list experiments on toy datasets, and hide failures on more complicated cases.*\n",
    "* we need to find ways to keep our models simple to let them train in a few minutes"
   ]
  },
  {
   "cell_type": "markdown",
   "metadata": {},
   "source": [
    "### Getting the data"
   ]
  },
  {
   "cell_type": "code",
   "execution_count": 1,
   "metadata": {
    "collapsed": true
   },
   "outputs": [],
   "source": [
    "# This has already been done when you clone the library on Azure Notebooks\n",
    "\n",
    "# !curl -O https://raw.githubusercontent.com/DJCordhose/speed-limit-signs/master/data/speed-limit-signs.zip\n",
    "# from zipfile import ZipFile\n",
    "# zip = ZipFile(r'speed-limit-signs.zip')\n",
    "# % time zip.extractall('.')"
   ]
  },
  {
   "cell_type": "code",
   "execution_count": 14,
   "metadata": {},
   "outputs": [
    {
     "name": "stdout",
     "output_type": "stream",
     "text": [
      "<!DOCTYPE html PUBLIC \"-//W3C//DTD HTML 4.01//EN\" \"http://www.w3.org/TR/html4/strict.dtd\">\r\n",
      "<html><head>\r\n",
      "<meta type=\"copyright\" content=\"Copyright (C) 1996-2015 The Squid Software Foundation and contributors\">\r\n",
      "<meta http-equiv=\"Content-Type\" content=\"text/html; charset=utf-8\">\r\n",
      "<title>ERROR: The requested URL could not be retrieved</title>\r\n",
      "<style type=\"text/css\"><!-- \r\n",
      " /*\r\n",
      " * Copyright (C) 1996-2015 The Squid Software Foundation and contributors\r\n",
      " *\r\n",
      " * Squid software is distributed under GPLv2+ license and includes\r\n",
      " * contributions from numerous individuals and organizations.\r\n",
      " * Please see the COPYING and CONTRIBUTORS files for details.\r\n",
      " */\r\n",
      "\r\n",
      "/*\r\n",
      " Stylesheet for Squid Error pages\r\n",
      " Adapted from design by Free CSS Templates\r\n",
      " http://www.freecsstemplates.org\r\n",
      " Released for free under a Creative Commons Attribution 2.5 License\r\n",
      "*/\r\n",
      "\r\n",
      "/* Page basics */\r\n",
      "* {\r\n",
      "\tfont-family: verdana, sans-serif;\r\n",
      "}\r\n",
      "\r\n",
      "html body {\r\n",
      "\tmargin: 0;\r\n",
      "\tpadding: 0;\r\n",
      "\tbackground: #efefef;\r\n",
      "\tfont-size: 12px;\r\n",
      "\tcolor: #1e1e1e;\r\n",
      "}\r\n",
      "\r\n",
      "/* Page displayed title area */\r\n",
      "#titles {\r\n",
      "\tmargin-left: 15px;\r\n",
      "\tpadding: 10px;\r\n",
      "\tpadding-left: 100px;\r\n",
      "\tbackground: url('/squid-internal-static/icons/SN.png') no-repeat left;\r\n",
      "}\r\n",
      "\r\n",
      "/* initial title */\r\n",
      "#titles h1 {\r\n",
      "\tcolor: #000000;\r\n",
      "}\r\n",
      "#titles h2 {\r\n",
      "\tcolor: #000000;\r\n",
      "}\r\n",
      "\r\n",
      "/* special event: FTP success page titles */\r\n",
      "#titles ftpsuccess {\r\n",
      "\tbackground-color:#00ff00;\r\n",
      "\twidth:100%;\r\n",
      "}\r\n",
      "\r\n",
      "/* Page displayed body content area */\r\n",
      "#content {\r\n",
      "\tpadding: 10px;\r\n",
      "\tbackground: #ffffff;\r\n",
      "}\r\n",
      "\r\n",
      "/* General text */\r\n",
      "p {\r\n",
      "}\r\n",
      "\r\n",
      "/* error brief description */\r\n",
      "#error p {\r\n",
      "}\r\n",
      "\r\n",
      "/* some data which may have caused the problem */\r\n",
      "#data {\r\n",
      "}\r\n",
      "\r\n",
      "/* the error message received from the system or other software */\r\n",
      "#sysmsg {\r\n",
      "}\r\n",
      "\r\n",
      "pre {\r\n",
      "    font-family:sans-serif;\r\n",
      "}\r\n",
      "\r\n",
      "/* special event: FTP / Gopher directory listing */\r\n",
      "#dirmsg {\r\n",
      "    font-family: courier;\r\n",
      "    color: black;\r\n",
      "    font-size: 10pt;\r\n",
      "}\r\n",
      "#dirlisting {\r\n",
      "    margin-left: 2%;\r\n",
      "    margin-right: 2%;\r\n",
      "}\r\n",
      "#dirlisting tr.entry td.icon,td.filename,td.size,td.date {\r\n",
      "    border-bottom: groove;\r\n",
      "}\r\n",
      "#dirlisting td.size {\r\n",
      "    width: 50px;\r\n",
      "    text-align: right;\r\n",
      "    padding-right: 5px;\r\n",
      "}\r\n",
      "\r\n",
      "/* horizontal lines */\r\n",
      "hr {\r\n",
      "\tmargin: 0;\r\n",
      "}\r\n",
      "\r\n",
      "/* page displayed footer area */\r\n",
      "#footer {\r\n",
      "\tfont-size: 9px;\r\n",
      "\tpadding-left: 10px;\r\n",
      "}\r\n",
      "\r\n",
      "\r\n",
      "body\r\n",
      ":lang(fa) { direction: rtl; font-size: 100%; font-family: Tahoma, Roya, sans-serif; float: right; }\r\n",
      ":lang(he) { direction: rtl; }\r\n",
      " --></style>\r\n",
      "</head><body id=ERR_INVALID_REQ>\r\n",
      "<div id=\"titles\">\r\n",
      "<h1>ERROR</h1>\r\n",
      "<h2>The requested URL could not be retrieved</h2>\r\n",
      "</div>\r\n",
      "<hr>\r\n",
      "\r\n",
      "<div id=\"content\">\r\n",
      "<p><b>Invalid Request</b> error was encountered while trying to process the request:</p>\r\n",
      "\r\n",
      "<blockquote id=\"data\">\r\n",
      "<pre>GET / HTTP/1.1\r\n",
      "User-Agent: curl/7.49.0\r",
      "\r\n",
      "Accept: */*\r",
      "\r\n",
      "Content-Type: application/json\r",
      "\r\n",
      "Content-Length: 134\r",
      "\r\n",
      "Host: ec2-52-43-39-37.us-west-2.compute.amazonaws.com:8888\r",
      "\r\n",
      "</pre>\r\n",
      "</blockquote>\r\n",
      "\r\n",
      "<p>Some possible problems are:</p>\r\n",
      "<ul>\r\n",
      "<li id=\"missing-method\"><p>Missing or unknown request method.</p></li>\r\n",
      "<li id=\"missing-url\"><p>Missing URL.</p></li>\r\n",
      "<li id=\"missing-protocol\"><p>Missing HTTP Identifier (HTTP/1.0).</p></li>\r\n",
      "<li><p>Request is too large.</p></li>\r\n",
      "<li><p>Content-Length missing for POST or PUT requests.</p></li>\r\n",
      "<li><p>Illegal character in hostname; underscores are not allowed.</p></li>\r\n",
      "<li><p>HTTP/1.1 <q>Expect:</q> feature is being asked from an HTTP/1.0 software.</p></li>\r\n",
      "</ul>\r\n",
      "\r\n",
      "<p>Your cache administrator is <a href=\"mailto:webmaster?subject=CacheErrorInfo%20-%20ERR_INVALID_REQ&amp;body=CacheHost%3A%20ansprod3860nb%0D%0AErrPage%3A%20ERR_INVALID_REQ%0D%0AErr%3A%20%5Bnone%5D%0D%0ATimeStamp%3A%20Mon,%2002%20Oct%202017%2015%3A45%3A33%20GMT%0D%0A%0D%0AClientIP%3A%20172.17.0.35%0D%0A%0D%0AHTTP%20Request%3A%0D%0AGET%20%2F%20HTTP%2F1.1%0AUser-Agent%3A%20curl%2F7.49.0%0D%0AAccept%3A%20*%2F*%0D%0AContent-Type%3A%20application%2Fjson%0D%0AContent-Length%3A%20134%0D%0AHost%3A%20ec2-52-43-39-37.us-west-2.compute.amazonaws.com%3A8888%0D%0A%0D%0A%0D%0A\">webmaster</a>.</p>\r\n",
      "<br>\r\n",
      "</div>\r\n",
      "\r\n",
      "<script language=\"javascript\">\r\n",
      "if ('GET' != '[unknown method]') document.getElementById('missing-method').style.display = 'none';\r\n",
      "if ('http://ec2-52-43-39-37.us-west-2.compute.amazonaws.com:8888/' != '[no URL]') document.getElementById('missing-url').style.display = 'none';\r\n",
      "if ('http' != '[unknown protocol]') document.getElementById('missing-protocol').style.display = 'none';\r\n",
      "</script>\r\n",
      "\r\n",
      "<hr>\r\n",
      "<div id=\"footer\">\r\n",
      "<p>Generated Mon, 02 Oct 2017 15:45:33 GMT by ansprod3860nb (squid/3.5.12)</p>\r\n",
      "<!-- ERR_INVALID_REQ -->\r\n",
      "</div>\r\n",
      "</body></html>\r\n"
     ]
    }
   ],
   "source": [
    "# Calling a Keras based model to classify speed limit signs (Azure does not allow you this, unfortunately)\n",
    "!curl -H \"Content-Type: application/json\" -X GET -d '{\"url\": \"https://github.com/DJCordhose/speed-limit-signs/raw/master/data/real-world/4/100-sky-cutoff-detail.jpg\", \"model\": \"default\" }' http://ec2-52-43-39-37.us-west-2.compute.amazonaws.com:8888"
   ]
  },
  {
   "cell_type": "markdown",
   "metadata": {},
   "source": [
    "## Deep Learning\n",
    "[Deep Learning: Course by Yann LeCun at Collège de France 2016](https://drive.google.com/file/d/0BxKBnD5y2M8NdFB4U1BtU1V1ejA/view)\n",
    "![Deep Learning](https://raw.githubusercontent.com/DJCordhose/ai/master/docs/img/deep-learning.png)"
   ]
  },
  {
   "cell_type": "markdown",
   "metadata": {},
   "source": [
    "## AI vs Machine Learning (ML)\n",
    "NVIDIA Blog: [What’s the Difference Between Artificial Intelligence, Machine Learning, and Deep Learning?](https://blogs.nvidia.com/blog/2016/07/29/whats-difference-artificial-intelligence-machine-learning-deep-learning-ai/)\n",
    "![AI Nvidia](https://raw.githubusercontent.com/DJCordhose/ai/master/docs/img/Deep_Learning_NVIDIA.png)"
   ]
  },
  {
   "cell_type": "markdown",
   "metadata": {},
   "source": [
    "## Types of Machine Learning\n",
    "[What do you mean by Machine Learning?](http://www.techjini.com/blog/machine-learning/)\n",
    "![Types of ML](http://www.techjini.com/wp-content/uploads/2017/02/mc-learning.jpg)"
   ]
  },
  {
   "cell_type": "markdown",
   "metadata": {},
   "source": [
    "## Parts of the workshop\n",
    "\n",
    "### Intro (optional)\n",
    "* [Introduction to Machine Learning](ml-intro.ipynb)\n",
    "\n",
    "### Core\n",
    "* [Introduction to Neural Networks with Keras](nn-intro.ipynb)\n",
    "* [Introduction to Convolutional Neural Networks (with a VGG architecture trained on Imagenet)](cnn-intro.ipynb)\n",
    "* [CNN Speed Limits Signs with custom VGG style network](speed-limit-signs.ipynb)\n",
    "\n",
    "### Advanced (optional)\n",
    "* [Augmenting Image Data](cnn-augmentation.ipynb), [Full Training with Augmented Data](cnn-train-augmented.ipynb)\n",
    "* [Speed Limits Signs with Standard CNN Architectures](cnn-standard-architectures.ipynb)\n",
    "* [Retraining Pre-Trained Imagenet Models](cnn-imagenet-retrain.ipynb)\n",
    "* [How well do the different models generalize to real life?](cnn-comparing-all-models.ipynb)"
   ]
  },
  {
   "cell_type": "markdown",
   "metadata": {
    "collapsed": true
   },
   "source": [
    "## Links\n",
    "* Limits Deep Learning: http://hyperparameter.space/blog/when-not-to-use-deep-learning \n",
    "* Traffic Signs with mxnet: https://www.oreilly.com/ideas/classifying-traffic-signs-with-mxnet-an-introduction-to-computer-vision-with-neural-networks\n",
    "* Low-Level Tensorflow: https://speakerdeck.com/rasbt/introduction-to-deep-learning-with-tensorflow-at-pydata-ann-arbor\n",
    "* Tensors: https://www.youtube.com/watch?v=f5liqUk0ZTw\n",
    "* Retraining of Pre-Trained Networks: https://blog.keras.io/building-powerful-image-classification-models-using-very-little-data.html\n",
    "* History of Deep Learning\n",
    "  * https://devblogs.nvidia.com/parallelforall/deep-learning-nutshell-history-training/\n",
    "  * https://medium.freecodecamp.org/the-history-of-deep-learning-explored-through-6-code-snippets-d0a0e8545202\n",
    "* Why does Deep Learning Work: https://www.quantamagazine.org/new-theory-cracks-open-the-black-box-of-deep-learning-20170921/\n",
    "* Face Detection with Keras and OpenCV: https://github.com/oarriaga/face_classification\n",
    "* What is Deep Learning, NVIDIA Marketing Hype : https://www.slideshare.net/NVIDIA/what-is-deep-learning-73262847\n",
    "* What do CNNs \"see\"? https://djcordhose.github.io/ai/2017_scipy_cnn_introspection.html\n",
    "* Which GPU: http://timdettmers.com/2017/04/09/which-gpu-for-deep-learning/\n",
    "* Architechtures\n",
    "  * Neural Network Architectures: https://medium.com/towards-data-science/neural-network-architectures-156e5bad51ba\n",
    "  * The 9 Deep Learning Papers You Need To Know About: https://adeshpande3.github.io/adeshpande3.github.io/The-9-Deep-Learning-Papers-You-Need-To-Know-About.html\n",
    "* Backpropagation\n",
    "  * http://neuralnetworksanddeeplearning.com/chap2.html\n",
    "  * http://iamtrask.github.io/2015/07/12/basic-python-network/\n",
    "  * Stanford CS231n Winter 2016: Lecture 4: Backpropagation, Neural Networks 1: https://www.youtube.com/watch?v=i94OvYb6noo\n",
    "* Deep Learning for Developers: https://medium.freecodecamp.org/deep-learning-for-developers-tools-you-can-use-to-code-neural-networks-on-day-1-34c4435ae6b\n",
    "* Get an insight into seq2seq\n",
    "  * https://blog.keras.io/a-ten-minute-introduction-to-sequence-to-sequence-learning-in-keras.html\n",
    "  * https://www.oreilly.com/ideas/question-answering-with-tensorflow\n",
    "  * https://cloud.google.com/blog/big-data/2017/10/intro-to-text-classification-with-keras-automatically-tagging-stack-overflow-posts"
   ]
  },
  {
   "cell_type": "markdown",
   "metadata": {},
   "source": [
    "## Books\n",
    "* Deep Learning (Adaptive Computation and Machine Learning series): https://www.amazon.com/Deep-Learning-Adaptive-Computation-Machine/dp/0262035618/ref=pd_lpo_sbs_14_img_1?_encoding=UTF8&psc=1&refRID=DBDHN0A63R3F0Q4YDXGP\n",
    "* Make Your Own Neural Network, Details of Implementation: https://www.amazon.com/Make-Your-Own-Neural-Network/dp/1530826608\n",
    "* Deep Learning with Python, very practical book by the developer of Keras: https://www.manning.com/books/deep-learning-with-python"
   ]
  }
 ],
 "metadata": {
  "kernelspec": {
   "display_name": "Python 3",
   "language": "python",
   "name": "python3"
  },
  "language_info": {
   "codemirror_mode": {
    "name": "ipython",
    "version": 3
   },
   "file_extension": ".py",
   "mimetype": "text/x-python",
   "name": "python",
   "nbconvert_exporter": "python",
   "pygments_lexer": "ipython3",
   "version": "3.5.1"
  }
 },
 "nbformat": 4,
 "nbformat_minor": 2
}
